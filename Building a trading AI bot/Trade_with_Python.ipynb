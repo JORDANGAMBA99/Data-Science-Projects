{
 "cells": [
  {
   "cell_type": "code",
   "execution_count": 1,
   "metadata": {},
   "outputs": [],
   "source": [
    "### Trade with Python using Metatrader\n",
    "### https://www.mql5.com/en/docs/python_metatrader5/mt5ordersend_py\n",
    "\n",
    "import MetaTrader5  as mt5\n",
    "import pandas as pd\n",
    "import numpy as np\n",
    "from datetime import datetime\n",
    "import plotly.graph_objects as go\n",
    "import plotly.express as px\n",
    "import time"
   ]
  },
  {
   "cell_type": "markdown",
   "metadata": {},
   "source": [
    "### Connect to the account"
   ]
  },
  {
   "cell_type": "code",
   "execution_count": 2,
   "metadata": {},
   "outputs": [
    {
     "data": {
      "text/plain": [
       "True"
      ]
     },
     "execution_count": 2,
     "metadata": {},
     "output_type": "execute_result"
    }
   ],
   "source": [
    "mt5.initialize()\n",
    "\n",
    "## Display Login information\n",
    "login = 81283410\n",
    "password =\"Superman1999*\"\n",
    "server =\"ExnessKE-MT5Trial10\"\n",
    "\n",
    "mt5.login(login,password,server)"
   ]
  },
  {
   "cell_type": "code",
   "execution_count": 3,
   "metadata": {},
   "outputs": [
    {
     "data": {
      "text/plain": [
       "True"
      ]
     },
     "execution_count": 3,
     "metadata": {},
     "output_type": "execute_result"
    }
   ],
   "source": [
    "mt5.shutdown()"
   ]
  },
  {
   "cell_type": "markdown",
   "metadata": {},
   "source": [
    "### Get the Account Information"
   ]
  },
  {
   "cell_type": "code",
   "execution_count": 4,
   "metadata": {},
   "outputs": [
    {
     "name": "stdout",
     "output_type": "stream",
     "text": [
      "failed to connect at account #81283410, error code: (-2, 'Invalid 1st unnamed argument')\n"
     ]
    }
   ],
   "source": [
    "# Get the account information of the \n",
    "mt5.initialize(\"C:/Program Files/MetaTrader 5/terminal64.exe\")\n",
    "account=81283410\n",
    "authorized=mt5.initialize(account, password=\"Superman1999*\")\n",
    "if authorized:\n",
    "    # display trading account data 'as is'\n",
    "    print(mt5.account_info())\n",
    "    # display trading account data in the form of a list\n",
    "    print(\"Show account_info()._asdict():\")\n",
    "    account_info_dict = mt5.account_info()._asdict()\n",
    "    for prop in account_info_dict:\n",
    "        print(\"  {}={}\".format(prop, account_info_dict[prop]))\n",
    "else:\n",
    "    print(\"failed to connect at account #{}, error code: {}\".format(account, mt5.last_error()))"
   ]
  },
  {
   "cell_type": "markdown",
   "metadata": {},
   "source": [
    "### Get the Total number of Symbols offered in exness"
   ]
  },
  {
   "cell_type": "code",
   "execution_count": 5,
   "metadata": {},
   "outputs": [],
   "source": [
    "##  get number of symbols \n",
    "num_symbols = mt5.symbols_total()\n",
    "\n",
    "num_symbols\n"
   ]
  },
  {
   "cell_type": "markdown",
   "metadata": {},
   "source": [
    "##### Exness is offering 319 symbols"
   ]
  },
  {
   "cell_type": "markdown",
   "metadata": {},
   "source": [
    "#### Get the Symbols and their specifications"
   ]
  },
  {
   "cell_type": "code",
   "execution_count": 6,
   "metadata": {},
   "outputs": [
    {
     "name": "stdout",
     "output_type": "stream",
     "text": [
      "Symbols: 319\n",
      "1. USDAED\n",
      "2. USDAMD\n",
      "3. USDARS\n",
      "4. USDAZN\n",
      "5. USDBDT\n",
      "\n"
     ]
    }
   ],
   "source": [
    "\n",
    "mt5.initialize(\"C:/Program Files/MetaTrader 5/terminal64.exe\")\n",
    "\n",
    "## get symbols and their specifications\n",
    "symbols=mt5.symbols_get()\n",
    "print('Symbols:', len(symbols))\n",
    "count=0\n",
    "# display the first five ones\n",
    "for s in symbols:\n",
    "    count+=1\n",
    "    print(\"{}. {}\".format(count,s.name))\n",
    "    if count==5: break\n",
    "print()"
   ]
  },
  {
   "cell_type": "markdown",
   "metadata": {},
   "source": [
    "##### Print the symbols with GBP"
   ]
  },
  {
   "cell_type": "code",
   "execution_count": 7,
   "metadata": {},
   "outputs": [
    {
     "name": "stdout",
     "output_type": "stream",
     "text": [
      "len(*GBP*):  14\n",
      "EURGBPz\n",
      "GBPAUDz\n",
      "GBPCADz\n",
      "GBPCHFz\n",
      "GBPDKKz\n",
      "GBPJPYz\n",
      "GBPNZDz\n",
      "GBPSEKz\n",
      "GBPSGDz\n",
      "GBPTRYz\n",
      "GBPUSDz\n",
      "GBPZARz\n",
      "XAGGBPz\n",
      "XAUGBPz\n",
      "\n"
     ]
    }
   ],
   "source": [
    "\n",
    "# get symbols containing GBP in their names\n",
    "ru_symbols=mt5.symbols_get(\"*GBP*\")\n",
    "print('len(*GBP*): ', len(ru_symbols))\n",
    "for s in ru_symbols:\n",
    "    print(s.name)\n",
    "print()"
   ]
  },
  {
   "cell_type": "markdown",
   "metadata": {},
   "source": [
    "##### Get symbols whose names do not contain USD, EUR, JPY and GBP in the Exness Platform"
   ]
  },
  {
   "cell_type": "code",
   "execution_count": 8,
   "metadata": {},
   "outputs": [
    {
     "name": "stdout",
     "output_type": "stream",
     "text": [
      "len(*,!*USD*,!*EUR*,!*JPY*,!*GBP*): 144\n",
      "USOILz\n",
      "AUDCADz\n",
      "AUDCHFz\n",
      "AUDDKKz\n",
      "AUDMXNz\n",
      "AUDNOKz\n",
      "AUDNZDz\n",
      "AUDSEKz\n",
      "AUDSGDz\n",
      "AUDTRYz\n",
      "AUDZARz\n",
      "CADCHFz\n",
      "CADTRYz\n",
      "CHFDKKz\n",
      "CHFNOKz\n",
      "CHFSEKz\n",
      "CHFSGDz\n",
      "CHFTRYz\n",
      "CHFZARz\n",
      "DKKSGDz\n",
      "DXYz\n",
      "NOKDKKz\n",
      "NZDCADz\n",
      "NZDCHFz\n",
      "NZDMXNz\n",
      "NZDSEKz\n",
      "NZDSGDz\n",
      "NZDZARz\n",
      "TRYZARz\n",
      "XAGAUDz\n",
      "XAUAUDz\n",
      "AUS200z\n",
      "DE30z\n",
      "FR40z\n",
      "HK50z\n",
      "STOXX50z\n",
      "UK100z\n",
      "US30z\n",
      "US500z\n",
      "USTECz\n",
      "AAPLz\n",
      "ABBVz\n",
      "ABTz\n",
      "ADBEz\n",
      "ADPz\n",
      "AMDz\n",
      "AMGNz\n",
      "AMTz\n",
      "AMZNz\n",
      "ATVIz\n",
      "AVGOz\n",
      "BAz\n",
      "BABAz\n",
      "BACz\n",
      "BIIBz\n",
      "BMYz\n",
      "Cz\n",
      "CHTRz\n",
      "CMCSAz\n",
      "CMEz\n",
      "COSTz\n",
      "CSCOz\n",
      "CSXz\n",
      "CVSz\n",
      "EAz\n",
      "EBAYz\n",
      "EQIXz\n",
      "Fz\n",
      "FBz\n",
      "GILDz\n",
      "GOOGLz\n",
      "HDz\n",
      "IBMz\n",
      "INTCz\n",
      "INTUz\n",
      "ISRGz\n",
      "JNJz\n",
      "JPMz\n",
      "KOz\n",
      "LINz\n",
      "LLYz\n",
      "LMTz\n",
      "MAz\n",
      "MCDz\n",
      "MDLZz\n",
      "MMMz\n",
      "MOz\n",
      "MRKz\n",
      "MSz\n",
      "MSFTz\n",
      "NFLXz\n",
      "NKEz\n",
      "NVDAz\n",
      "ORCLz\n",
      "PEPz\n",
      "PFEz\n",
      "PGz\n",
      "PMz\n",
      "PYPLz\n",
      "REGNz\n",
      "SBUXz\n",
      "Tz\n",
      "TMOz\n",
      "TMUSz\n",
      "TSLAz\n",
      "UNHz\n",
      "UPSz\n",
      "Vz\n",
      "VRTXz\n",
      "VZz\n",
      "WFCz\n",
      "WMTz\n",
      "XOMz\n",
      "AMCz\n",
      "BBz\n",
      "BBBYz\n",
      "BEKEz\n",
      "BIDUz\n",
      "BILIz\n",
      "BRQSz\n",
      "BYNDz\n",
      "CANz\n",
      "EDUz\n",
      "FTNTz\n",
      "FUTUz\n",
      "IQz\n",
      "JDz\n",
      "LIz\n",
      "NIOz\n",
      "NTESz\n",
      "PDDz\n",
      "RLXz\n",
      "TALz\n",
      "TIGRz\n",
      "TMEz\n",
      "TSMz\n",
      "VIPSz\n",
      "XPEVz\n",
      "YUMCz\n",
      "ZTOz\n",
      "UKOILz\n",
      "METAz\n",
      "IN50z\n",
      "JP225z\n"
     ]
    }
   ],
   "source": [
    "\n",
    "# get symbols whose names do not contain USD, EUR, JPY and GBP\n",
    "group_symbols=mt5.symbols_get(group=\"*,!*USD*,!*EUR*,!*JPY*,!*GBP*\")\n",
    "print('len(*,!*USD*,!*EUR*,!*JPY*,!*GBP*):', len(group_symbols))\n",
    "for s in group_symbols:\n",
    "    print(s.name) "
   ]
  },
  {
   "cell_type": "markdown",
   "metadata": {},
   "source": [
    "#### Get the Symbol information"
   ]
  },
  {
   "cell_type": "code",
   "execution_count": 9,
   "metadata": {},
   "outputs": [
    {
     "name": "stdout",
     "output_type": "stream",
     "text": [
      "Show symbol_info_tick(GBPUSDz)._asdict()\n",
      "time=1727701296\n",
      "bid=1.33866\n",
      "ask=1.33866\n",
      "last=0.0\n",
      "volume=0\n",
      "time_msc=1727701296081\n",
      "flags=6\n",
      "volume_real=0.0\n"
     ]
    }
   ],
   "source": [
    "# display the last GBPUSD tick\n",
    "\n",
    "# lasttick=mt5.symbol_info_tick(\"GBPUSD\")\n",
    "symbol = \"GBPUSDz\"\n",
    "if not mt5.symbol_info_tick(symbol):\n",
    "    print(\"An Error Occurred\",mt5.last_error())\n",
    "\n",
    "else:\n",
    "    print(f\"Show symbol_info_tick({symbol})._asdict()\")\n",
    "    symbol_info_tick_dict = mt5.symbol_info_tick(symbol)._asdict()\n",
    "    for prop in symbol_info_tick_dict:\n",
    "        print(\"{}={}\".format(prop,symbol_info_tick_dict[prop]))\n",
    "        \n",
    "# display tick field values in the form of a list\n",
    "\n",
    "# print(\"Show symbol_info_tick(\\\"GBPUSD\\\")._asdict():\")\n",
    "# symbol_info_tick_dict = mt5.symbol_info_tick(\"GBPUSDz\")._asdict()\n",
    "# for prop in symbol_info_tick_dict:\n",
    "#     print(\"{}={}\".format(prop,symbol_info_tick_dict[prop]))\n"
   ]
  },
  {
   "cell_type": "code",
   "execution_count": 10,
   "metadata": {},
   "outputs": [
    {
     "name": "stdout",
     "output_type": "stream",
     "text": [
      "SymbolInfo(custom=False, chart_mode=0, select=True, visible=True, session_deals=0, session_buy_orders=0, session_sell_orders=0, volume=0, volumehigh=0, volumelow=0, time=1727701295, digits=5, spread=0, spread_float=True, ticks_bookdepth=0, trade_calc_mode=0, trade_mode=4, start_time=0, expiration_time=0, trade_stops_level=0, trade_freeze_level=0, trade_exemode=2, swap_mode=1, swap_rollover3days=3, margin_hedged_use_leg=False, expiration_mode=15, filling_mode=3, order_mode=127, order_gtc_mode=0, option_mode=0, option_right=0, bid=1.11905, bidhigh=1.1209, bidlow=1.11562, ask=1.11905, askhigh=1.1209, asklow=1.11562, last=0.0, lasthigh=0.0, lastlow=0.0, volume_real=0.0, volumehigh_real=0.0, volumelow_real=0.0, option_strike=0.0, point=1e-05, trade_tick_value=1.0, trade_tick_value_profit=1.0, trade_tick_value_loss=1.0, trade_tick_size=1e-05, trade_contract_size=100000.0, trade_accrued_interest=0.0, trade_face_value=0.0, trade_liquidity_rate=0.0, volume_min=0.01, volume_max=200.0, volume_step=0.01, volume_limit=0.0, swap_long=-5.8, swap_short=0.0, margin_initial=0.0, margin_maintenance=0.0, session_volume=0.0, session_turnover=0.0, session_interest=0.0, session_buy_orders_volume=0.0, session_sell_orders_volume=0.0, session_open=1.1169, session_close=1.11691, session_aw=0.0, session_price_settlement=0.0, session_price_limit_min=0.0, session_price_limit_max=0.0, margin_hedged=0.0, price_change=0.1916, price_volatility=0.0, price_theoretical=0.0, price_greeks_delta=0.0, price_greeks_theta=0.0, price_greeks_gamma=0.0, price_greeks_vega=0.0, price_greeks_rho=0.0, price_greeks_omega=0.0, price_sensitivity=0.0, basis='', category='Majors', currency_base='EUR', currency_profit='USD', currency_margin='EUR', bank='', description='Euro vs US Dollar', exchange='', formula='', isin='', name='EURUSDz', page='', path='Forex_z\\\\EURUSDz')\n",
      "EURUSDz: spread = 0   digits = 5\n",
      "Show symbol_info(\"EURJPY\")._asdict():\n",
      "  custom=False\n",
      "  chart_mode=0\n",
      "  select=True\n",
      "  visible=True\n",
      "  session_deals=0\n",
      "  session_buy_orders=0\n",
      "  session_sell_orders=0\n",
      "  volume=0\n",
      "  volumehigh=0\n",
      "  volumelow=0\n",
      "  time=1727701295\n",
      "  digits=5\n",
      "  spread=0\n",
      "  spread_float=True\n",
      "  ticks_bookdepth=0\n",
      "  trade_calc_mode=0\n",
      "  trade_mode=4\n",
      "  start_time=0\n",
      "  expiration_time=0\n",
      "  trade_stops_level=0\n",
      "  trade_freeze_level=0\n",
      "  trade_exemode=2\n",
      "  swap_mode=1\n",
      "  swap_rollover3days=3\n",
      "  margin_hedged_use_leg=False\n",
      "  expiration_mode=15\n",
      "  filling_mode=3\n",
      "  order_mode=127\n",
      "  order_gtc_mode=0\n",
      "  option_mode=0\n",
      "  option_right=0\n",
      "  bid=1.11905\n",
      "  bidhigh=1.1209\n",
      "  bidlow=1.11562\n",
      "  ask=1.11905\n",
      "  askhigh=1.1209\n",
      "  asklow=1.11562\n",
      "  last=0.0\n",
      "  lasthigh=0.0\n",
      "  lastlow=0.0\n",
      "  volume_real=0.0\n",
      "  volumehigh_real=0.0\n",
      "  volumelow_real=0.0\n",
      "  option_strike=0.0\n",
      "  point=1e-05\n",
      "  trade_tick_value=1.0\n",
      "  trade_tick_value_profit=1.0\n",
      "  trade_tick_value_loss=1.0\n",
      "  trade_tick_size=1e-05\n",
      "  trade_contract_size=100000.0\n",
      "  trade_accrued_interest=0.0\n",
      "  trade_face_value=0.0\n",
      "  trade_liquidity_rate=0.0\n",
      "  volume_min=0.01\n",
      "  volume_max=200.0\n",
      "  volume_step=0.01\n",
      "  volume_limit=0.0\n",
      "  swap_long=-5.8\n",
      "  swap_short=0.0\n",
      "  margin_initial=0.0\n",
      "  margin_maintenance=0.0\n",
      "  session_volume=0.0\n",
      "  session_turnover=0.0\n",
      "  session_interest=0.0\n",
      "  session_buy_orders_volume=0.0\n",
      "  session_sell_orders_volume=0.0\n",
      "  session_open=1.1169\n",
      "  session_close=1.11691\n",
      "  session_aw=0.0\n",
      "  session_price_settlement=0.0\n",
      "  session_price_limit_min=0.0\n",
      "  session_price_limit_max=0.0\n",
      "  margin_hedged=0.0\n",
      "  price_change=0.1916\n",
      "  price_volatility=0.0\n",
      "  price_theoretical=0.0\n",
      "  price_greeks_delta=0.0\n",
      "  price_greeks_theta=0.0\n",
      "  price_greeks_gamma=0.0\n",
      "  price_greeks_vega=0.0\n",
      "  price_greeks_rho=0.0\n",
      "  price_greeks_omega=0.0\n",
      "  price_sensitivity=0.0\n",
      "  basis=\n",
      "  category=Majors\n",
      "  currency_base=EUR\n",
      "  currency_profit=USD\n",
      "  currency_margin=EUR\n",
      "  bank=\n",
      "  description=Euro vs US Dollar\n",
      "  exchange=\n",
      "  formula=\n",
      "  isin=\n",
      "  name=EURUSDz\n",
      "  page=\n",
      "  path=Forex_z\\EURUSDz\n"
     ]
    }
   ],
   "source": [
    "\n",
    "##  Itis not displaying the symbol information\n",
    "symbol_info=mt5.symbol_info(\"EURUSDz\")\n",
    "if symbol_info!=None: \n",
    "    # display the terminal data 'as is'    \n",
    "    print(symbol_info)\n",
    "    print(\"EURUSDz: spread =\",symbol_info.spread,\"  digits =\",symbol_info.digits)\n",
    "    # display symbol properties as a list\n",
    "    print(\"Show symbol_info(\\\"EURJPY\\\")._asdict():\")\n",
    "    symbol_info_dict = mt5.symbol_info(\"EURUSDz\")._asdict()\n",
    "    for prop in symbol_info_dict:\n",
    "        print(\"  {}={}\".format(prop, symbol_info_dict[prop]))"
   ]
  },
  {
   "cell_type": "code",
   "execution_count": 11,
   "metadata": {},
   "outputs": [
    {
     "name": "stdout",
     "output_type": "stream",
     "text": [
      "Tick(time=1727701296, bid=1.33866, ask=1.33866, last=0.0, volume=0, time_msc=1727701296081, flags=6, volume_real=0.0)\n",
      "Show symbol_info_tick(\"GBPUSDz\")._asdict():\n",
      "  time=1727701296\n",
      "  bid=1.33866\n",
      "  ask=1.33866\n",
      "  last=0.0\n",
      "  volume=0\n",
      "  time_msc=1727701296081\n",
      "  flags=6\n",
      "  volume_real=0.0\n"
     ]
    }
   ],
   "source": [
    "lasttick=mt5.symbol_info_tick(\"GBPUSDz\")\n",
    "print(lasttick)\n",
    "# display tick field values in the form of a list\n",
    "print(\"Show symbol_info_tick(\\\"GBPUSDz\\\")._asdict():\")\n",
    "symbol_info_tick_dict = mt5.symbol_info_tick(\"GBPUSDz\")._asdict()\n",
    "for prop in symbol_info_tick_dict:\n",
    "    print(\"  {}={}\".format(prop, symbol_info_tick_dict[prop]))"
   ]
  },
  {
   "cell_type": "markdown",
   "metadata": {},
   "source": [
    "#### Plotting the data using Plotly"
   ]
  },
  {
   "cell_type": "code",
   "execution_count": 12,
   "metadata": {},
   "outputs": [
    {
     "data": {
      "text/plain": [
       "array([(1725148800, 1.31284, 1.31336, 1.31202, 1.31299,  1928, 0, 0),\n",
       "       (1725235200, 1.313  , 1.31554, 1.31199, 1.314  , 30055, 0, 0),\n",
       "       (1725321600, 1.31401, 1.31475, 1.30875, 1.31126, 56660, 0, 0),\n",
       "       (1725408000, 1.31124, 1.31752, 1.31007, 1.31439, 53351, 0, 0),\n",
       "       (1725494400, 1.31442, 1.31856, 1.31369, 1.31759, 53040, 0, 0),\n",
       "       (1725580800, 1.31758, 1.32386, 1.31097, 1.31295, 73096, 0, 0),\n",
       "       (1725753600, 1.31205, 1.31384, 1.31197, 1.31315,  2762, 0, 0),\n",
       "       (1725840000, 1.31318, 1.31434, 1.30675, 1.30711, 47494, 0, 0),\n",
       "       (1725926400, 1.3071 , 1.3108 , 1.30494, 1.30797, 46981, 0, 0),\n",
       "       (1726012800, 1.30795, 1.3112 , 1.3002 , 1.3038 , 59050, 0, 0),\n",
       "       (1726099200, 1.30379, 1.31327, 1.30321, 1.31324, 51621, 0, 0),\n",
       "       (1726185600, 1.31324, 1.31581, 1.31149, 1.31246, 48667, 0, 0),\n",
       "       (1726358400, 1.31195, 1.3137 , 1.31165, 1.3135 ,  2255, 0, 0),\n",
       "       (1726444800, 1.31351, 1.32184, 1.31351, 1.32101, 42802, 0, 0),\n",
       "       (1726531200, 1.32101, 1.32299, 1.31459, 1.31674, 51977, 0, 0),\n",
       "       (1726617600, 1.31672, 1.32979, 1.31565, 1.32033, 88597, 0, 0),\n",
       "       (1726704000, 1.32034, 1.33146, 1.31534, 1.32811, 76213, 0, 0),\n",
       "       (1726790400, 1.32811, 1.33404, 1.32682, 1.33221, 62982, 0, 0),\n",
       "       (1726963200, 1.33087, 1.3323 , 1.33084, 1.33124,  2320, 0, 0),\n",
       "       (1727049600, 1.33122, 1.33595, 1.32487, 1.33487, 58692, 0, 0),\n",
       "       (1727136000, 1.33487, 1.34281, 1.3332 , 1.34271, 60941, 0, 0)],\n",
       "      dtype=[('time', '<i8'), ('open', '<f8'), ('high', '<f8'), ('low', '<f8'), ('close', '<f8'), ('tick_volume', '<u8'), ('spread', '<i4'), ('real_volume', '<u8')])"
      ]
     },
     "execution_count": 12,
     "metadata": {},
     "output_type": "execute_result"
    }
   ],
   "source": [
    "symbol = \"GBPUSDz\"\n",
    "timeframe = mt5.TIMEFRAME_D1\n",
    "ohlc = mt5.copy_rates_range(symbol,timeframe,datetime(2024,9,1),datetime(2024,9,25))\n",
    "ohlc"
   ]
  },
  {
   "cell_type": "code",
   "execution_count": 13,
   "metadata": {},
   "outputs": [
    {
     "data": {
      "text/html": [
       "<div>\n",
       "<style scoped>\n",
       "    .dataframe tbody tr th:only-of-type {\n",
       "        vertical-align: middle;\n",
       "    }\n",
       "\n",
       "    .dataframe tbody tr th {\n",
       "        vertical-align: top;\n",
       "    }\n",
       "\n",
       "    .dataframe thead th {\n",
       "        text-align: right;\n",
       "    }\n",
       "</style>\n",
       "<table border=\"1\" class=\"dataframe\">\n",
       "  <thead>\n",
       "    <tr style=\"text-align: right;\">\n",
       "      <th></th>\n",
       "      <th>time</th>\n",
       "      <th>open</th>\n",
       "      <th>high</th>\n",
       "      <th>low</th>\n",
       "      <th>close</th>\n",
       "      <th>tick_volume</th>\n",
       "      <th>spread</th>\n",
       "      <th>real_volume</th>\n",
       "    </tr>\n",
       "  </thead>\n",
       "  <tbody>\n",
       "    <tr>\n",
       "      <th>0</th>\n",
       "      <td>1725148800</td>\n",
       "      <td>1.31284</td>\n",
       "      <td>1.31336</td>\n",
       "      <td>1.31202</td>\n",
       "      <td>1.31299</td>\n",
       "      <td>1928</td>\n",
       "      <td>0</td>\n",
       "      <td>0</td>\n",
       "    </tr>\n",
       "    <tr>\n",
       "      <th>1</th>\n",
       "      <td>1725235200</td>\n",
       "      <td>1.31300</td>\n",
       "      <td>1.31554</td>\n",
       "      <td>1.31199</td>\n",
       "      <td>1.31400</td>\n",
       "      <td>30055</td>\n",
       "      <td>0</td>\n",
       "      <td>0</td>\n",
       "    </tr>\n",
       "    <tr>\n",
       "      <th>2</th>\n",
       "      <td>1725321600</td>\n",
       "      <td>1.31401</td>\n",
       "      <td>1.31475</td>\n",
       "      <td>1.30875</td>\n",
       "      <td>1.31126</td>\n",
       "      <td>56660</td>\n",
       "      <td>0</td>\n",
       "      <td>0</td>\n",
       "    </tr>\n",
       "    <tr>\n",
       "      <th>3</th>\n",
       "      <td>1725408000</td>\n",
       "      <td>1.31124</td>\n",
       "      <td>1.31752</td>\n",
       "      <td>1.31007</td>\n",
       "      <td>1.31439</td>\n",
       "      <td>53351</td>\n",
       "      <td>0</td>\n",
       "      <td>0</td>\n",
       "    </tr>\n",
       "    <tr>\n",
       "      <th>4</th>\n",
       "      <td>1725494400</td>\n",
       "      <td>1.31442</td>\n",
       "      <td>1.31856</td>\n",
       "      <td>1.31369</td>\n",
       "      <td>1.31759</td>\n",
       "      <td>53040</td>\n",
       "      <td>0</td>\n",
       "      <td>0</td>\n",
       "    </tr>\n",
       "    <tr>\n",
       "      <th>5</th>\n",
       "      <td>1725580800</td>\n",
       "      <td>1.31758</td>\n",
       "      <td>1.32386</td>\n",
       "      <td>1.31097</td>\n",
       "      <td>1.31295</td>\n",
       "      <td>73096</td>\n",
       "      <td>0</td>\n",
       "      <td>0</td>\n",
       "    </tr>\n",
       "    <tr>\n",
       "      <th>6</th>\n",
       "      <td>1725753600</td>\n",
       "      <td>1.31205</td>\n",
       "      <td>1.31384</td>\n",
       "      <td>1.31197</td>\n",
       "      <td>1.31315</td>\n",
       "      <td>2762</td>\n",
       "      <td>0</td>\n",
       "      <td>0</td>\n",
       "    </tr>\n",
       "    <tr>\n",
       "      <th>7</th>\n",
       "      <td>1725840000</td>\n",
       "      <td>1.31318</td>\n",
       "      <td>1.31434</td>\n",
       "      <td>1.30675</td>\n",
       "      <td>1.30711</td>\n",
       "      <td>47494</td>\n",
       "      <td>0</td>\n",
       "      <td>0</td>\n",
       "    </tr>\n",
       "    <tr>\n",
       "      <th>8</th>\n",
       "      <td>1725926400</td>\n",
       "      <td>1.30710</td>\n",
       "      <td>1.31080</td>\n",
       "      <td>1.30494</td>\n",
       "      <td>1.30797</td>\n",
       "      <td>46981</td>\n",
       "      <td>0</td>\n",
       "      <td>0</td>\n",
       "    </tr>\n",
       "    <tr>\n",
       "      <th>9</th>\n",
       "      <td>1726012800</td>\n",
       "      <td>1.30795</td>\n",
       "      <td>1.31120</td>\n",
       "      <td>1.30020</td>\n",
       "      <td>1.30380</td>\n",
       "      <td>59050</td>\n",
       "      <td>0</td>\n",
       "      <td>0</td>\n",
       "    </tr>\n",
       "    <tr>\n",
       "      <th>10</th>\n",
       "      <td>1726099200</td>\n",
       "      <td>1.30379</td>\n",
       "      <td>1.31327</td>\n",
       "      <td>1.30321</td>\n",
       "      <td>1.31324</td>\n",
       "      <td>51621</td>\n",
       "      <td>0</td>\n",
       "      <td>0</td>\n",
       "    </tr>\n",
       "    <tr>\n",
       "      <th>11</th>\n",
       "      <td>1726185600</td>\n",
       "      <td>1.31324</td>\n",
       "      <td>1.31581</td>\n",
       "      <td>1.31149</td>\n",
       "      <td>1.31246</td>\n",
       "      <td>48667</td>\n",
       "      <td>0</td>\n",
       "      <td>0</td>\n",
       "    </tr>\n",
       "    <tr>\n",
       "      <th>12</th>\n",
       "      <td>1726358400</td>\n",
       "      <td>1.31195</td>\n",
       "      <td>1.31370</td>\n",
       "      <td>1.31165</td>\n",
       "      <td>1.31350</td>\n",
       "      <td>2255</td>\n",
       "      <td>0</td>\n",
       "      <td>0</td>\n",
       "    </tr>\n",
       "    <tr>\n",
       "      <th>13</th>\n",
       "      <td>1726444800</td>\n",
       "      <td>1.31351</td>\n",
       "      <td>1.32184</td>\n",
       "      <td>1.31351</td>\n",
       "      <td>1.32101</td>\n",
       "      <td>42802</td>\n",
       "      <td>0</td>\n",
       "      <td>0</td>\n",
       "    </tr>\n",
       "    <tr>\n",
       "      <th>14</th>\n",
       "      <td>1726531200</td>\n",
       "      <td>1.32101</td>\n",
       "      <td>1.32299</td>\n",
       "      <td>1.31459</td>\n",
       "      <td>1.31674</td>\n",
       "      <td>51977</td>\n",
       "      <td>0</td>\n",
       "      <td>0</td>\n",
       "    </tr>\n",
       "    <tr>\n",
       "      <th>15</th>\n",
       "      <td>1726617600</td>\n",
       "      <td>1.31672</td>\n",
       "      <td>1.32979</td>\n",
       "      <td>1.31565</td>\n",
       "      <td>1.32033</td>\n",
       "      <td>88597</td>\n",
       "      <td>0</td>\n",
       "      <td>0</td>\n",
       "    </tr>\n",
       "    <tr>\n",
       "      <th>16</th>\n",
       "      <td>1726704000</td>\n",
       "      <td>1.32034</td>\n",
       "      <td>1.33146</td>\n",
       "      <td>1.31534</td>\n",
       "      <td>1.32811</td>\n",
       "      <td>76213</td>\n",
       "      <td>0</td>\n",
       "      <td>0</td>\n",
       "    </tr>\n",
       "    <tr>\n",
       "      <th>17</th>\n",
       "      <td>1726790400</td>\n",
       "      <td>1.32811</td>\n",
       "      <td>1.33404</td>\n",
       "      <td>1.32682</td>\n",
       "      <td>1.33221</td>\n",
       "      <td>62982</td>\n",
       "      <td>0</td>\n",
       "      <td>0</td>\n",
       "    </tr>\n",
       "    <tr>\n",
       "      <th>18</th>\n",
       "      <td>1726963200</td>\n",
       "      <td>1.33087</td>\n",
       "      <td>1.33230</td>\n",
       "      <td>1.33084</td>\n",
       "      <td>1.33124</td>\n",
       "      <td>2320</td>\n",
       "      <td>0</td>\n",
       "      <td>0</td>\n",
       "    </tr>\n",
       "    <tr>\n",
       "      <th>19</th>\n",
       "      <td>1727049600</td>\n",
       "      <td>1.33122</td>\n",
       "      <td>1.33595</td>\n",
       "      <td>1.32487</td>\n",
       "      <td>1.33487</td>\n",
       "      <td>58692</td>\n",
       "      <td>0</td>\n",
       "      <td>0</td>\n",
       "    </tr>\n",
       "    <tr>\n",
       "      <th>20</th>\n",
       "      <td>1727136000</td>\n",
       "      <td>1.33487</td>\n",
       "      <td>1.34281</td>\n",
       "      <td>1.33320</td>\n",
       "      <td>1.34271</td>\n",
       "      <td>60941</td>\n",
       "      <td>0</td>\n",
       "      <td>0</td>\n",
       "    </tr>\n",
       "  </tbody>\n",
       "</table>\n",
       "</div>"
      ],
      "text/plain": [
       "          time     open     high      low    close  tick_volume  spread  \\\n",
       "0   1725148800  1.31284  1.31336  1.31202  1.31299         1928       0   \n",
       "1   1725235200  1.31300  1.31554  1.31199  1.31400        30055       0   \n",
       "2   1725321600  1.31401  1.31475  1.30875  1.31126        56660       0   \n",
       "3   1725408000  1.31124  1.31752  1.31007  1.31439        53351       0   \n",
       "4   1725494400  1.31442  1.31856  1.31369  1.31759        53040       0   \n",
       "5   1725580800  1.31758  1.32386  1.31097  1.31295        73096       0   \n",
       "6   1725753600  1.31205  1.31384  1.31197  1.31315         2762       0   \n",
       "7   1725840000  1.31318  1.31434  1.30675  1.30711        47494       0   \n",
       "8   1725926400  1.30710  1.31080  1.30494  1.30797        46981       0   \n",
       "9   1726012800  1.30795  1.31120  1.30020  1.30380        59050       0   \n",
       "10  1726099200  1.30379  1.31327  1.30321  1.31324        51621       0   \n",
       "11  1726185600  1.31324  1.31581  1.31149  1.31246        48667       0   \n",
       "12  1726358400  1.31195  1.31370  1.31165  1.31350         2255       0   \n",
       "13  1726444800  1.31351  1.32184  1.31351  1.32101        42802       0   \n",
       "14  1726531200  1.32101  1.32299  1.31459  1.31674        51977       0   \n",
       "15  1726617600  1.31672  1.32979  1.31565  1.32033        88597       0   \n",
       "16  1726704000  1.32034  1.33146  1.31534  1.32811        76213       0   \n",
       "17  1726790400  1.32811  1.33404  1.32682  1.33221        62982       0   \n",
       "18  1726963200  1.33087  1.33230  1.33084  1.33124         2320       0   \n",
       "19  1727049600  1.33122  1.33595  1.32487  1.33487        58692       0   \n",
       "20  1727136000  1.33487  1.34281  1.33320  1.34271        60941       0   \n",
       "\n",
       "    real_volume  \n",
       "0             0  \n",
       "1             0  \n",
       "2             0  \n",
       "3             0  \n",
       "4             0  \n",
       "5             0  \n",
       "6             0  \n",
       "7             0  \n",
       "8             0  \n",
       "9             0  \n",
       "10            0  \n",
       "11            0  \n",
       "12            0  \n",
       "13            0  \n",
       "14            0  \n",
       "15            0  \n",
       "16            0  \n",
       "17            0  \n",
       "18            0  \n",
       "19            0  \n",
       "20            0  "
      ]
     },
     "execution_count": 13,
     "metadata": {},
     "output_type": "execute_result"
    }
   ],
   "source": [
    "\n",
    "## Converting ohlc to pandas dataframe\n",
    "ohlc_df = pd.DataFrame(ohlc)\n",
    "ohlc_df"
   ]
  },
  {
   "cell_type": "markdown",
   "metadata": {},
   "source": [
    "#### Requesting the tick data"
   ]
  },
  {
   "cell_type": "code",
   "execution_count": 24,
   "metadata": {},
   "outputs": [
    {
     "data": {
      "application/vnd.plotly.v1+json": {
       "config": {
        "plotlyServerURL": "https://plot.ly"
       },
       "data": [
        {
         "hovertemplate": "time=%{x}<br>close=%{y}<extra></extra>",
         "legendgroup": "",
         "line": {
          "color": "#636efa",
          "dash": "solid"
         },
         "marker": {
          "symbol": "circle"
         },
         "mode": "lines",
         "name": "",
         "orientation": "v",
         "showlegend": false,
         "type": "scatter",
         "x": [
          1726963200,
          1727049600,
          1727136000,
          1727222400,
          1727308800,
          1727395200,
          1727568000,
          1727654400
         ],
         "xaxis": "x",
         "y": [
          1.33124,
          1.33487,
          1.34271,
          1.33139,
          1.34109,
          1.3372600000000001,
          1.33826,
          1.33904
         ],
         "yaxis": "y"
        }
       ],
       "layout": {
        "legend": {
         "tracegroupgap": 0
        },
        "margin": {
         "t": 60
        },
        "template": {
         "data": {
          "bar": [
           {
            "error_x": {
             "color": "#2a3f5f"
            },
            "error_y": {
             "color": "#2a3f5f"
            },
            "marker": {
             "line": {
              "color": "#E5ECF6",
              "width": 0.5
             },
             "pattern": {
              "fillmode": "overlay",
              "size": 10,
              "solidity": 0.2
             }
            },
            "type": "bar"
           }
          ],
          "barpolar": [
           {
            "marker": {
             "line": {
              "color": "#E5ECF6",
              "width": 0.5
             },
             "pattern": {
              "fillmode": "overlay",
              "size": 10,
              "solidity": 0.2
             }
            },
            "type": "barpolar"
           }
          ],
          "carpet": [
           {
            "aaxis": {
             "endlinecolor": "#2a3f5f",
             "gridcolor": "white",
             "linecolor": "white",
             "minorgridcolor": "white",
             "startlinecolor": "#2a3f5f"
            },
            "baxis": {
             "endlinecolor": "#2a3f5f",
             "gridcolor": "white",
             "linecolor": "white",
             "minorgridcolor": "white",
             "startlinecolor": "#2a3f5f"
            },
            "type": "carpet"
           }
          ],
          "choropleth": [
           {
            "colorbar": {
             "outlinewidth": 0,
             "ticks": ""
            },
            "type": "choropleth"
           }
          ],
          "contour": [
           {
            "colorbar": {
             "outlinewidth": 0,
             "ticks": ""
            },
            "colorscale": [
             [
              0,
              "#0d0887"
             ],
             [
              0.1111111111111111,
              "#46039f"
             ],
             [
              0.2222222222222222,
              "#7201a8"
             ],
             [
              0.3333333333333333,
              "#9c179e"
             ],
             [
              0.4444444444444444,
              "#bd3786"
             ],
             [
              0.5555555555555556,
              "#d8576b"
             ],
             [
              0.6666666666666666,
              "#ed7953"
             ],
             [
              0.7777777777777778,
              "#fb9f3a"
             ],
             [
              0.8888888888888888,
              "#fdca26"
             ],
             [
              1,
              "#f0f921"
             ]
            ],
            "type": "contour"
           }
          ],
          "contourcarpet": [
           {
            "colorbar": {
             "outlinewidth": 0,
             "ticks": ""
            },
            "type": "contourcarpet"
           }
          ],
          "heatmap": [
           {
            "colorbar": {
             "outlinewidth": 0,
             "ticks": ""
            },
            "colorscale": [
             [
              0,
              "#0d0887"
             ],
             [
              0.1111111111111111,
              "#46039f"
             ],
             [
              0.2222222222222222,
              "#7201a8"
             ],
             [
              0.3333333333333333,
              "#9c179e"
             ],
             [
              0.4444444444444444,
              "#bd3786"
             ],
             [
              0.5555555555555556,
              "#d8576b"
             ],
             [
              0.6666666666666666,
              "#ed7953"
             ],
             [
              0.7777777777777778,
              "#fb9f3a"
             ],
             [
              0.8888888888888888,
              "#fdca26"
             ],
             [
              1,
              "#f0f921"
             ]
            ],
            "type": "heatmap"
           }
          ],
          "heatmapgl": [
           {
            "colorbar": {
             "outlinewidth": 0,
             "ticks": ""
            },
            "colorscale": [
             [
              0,
              "#0d0887"
             ],
             [
              0.1111111111111111,
              "#46039f"
             ],
             [
              0.2222222222222222,
              "#7201a8"
             ],
             [
              0.3333333333333333,
              "#9c179e"
             ],
             [
              0.4444444444444444,
              "#bd3786"
             ],
             [
              0.5555555555555556,
              "#d8576b"
             ],
             [
              0.6666666666666666,
              "#ed7953"
             ],
             [
              0.7777777777777778,
              "#fb9f3a"
             ],
             [
              0.8888888888888888,
              "#fdca26"
             ],
             [
              1,
              "#f0f921"
             ]
            ],
            "type": "heatmapgl"
           }
          ],
          "histogram": [
           {
            "marker": {
             "pattern": {
              "fillmode": "overlay",
              "size": 10,
              "solidity": 0.2
             }
            },
            "type": "histogram"
           }
          ],
          "histogram2d": [
           {
            "colorbar": {
             "outlinewidth": 0,
             "ticks": ""
            },
            "colorscale": [
             [
              0,
              "#0d0887"
             ],
             [
              0.1111111111111111,
              "#46039f"
             ],
             [
              0.2222222222222222,
              "#7201a8"
             ],
             [
              0.3333333333333333,
              "#9c179e"
             ],
             [
              0.4444444444444444,
              "#bd3786"
             ],
             [
              0.5555555555555556,
              "#d8576b"
             ],
             [
              0.6666666666666666,
              "#ed7953"
             ],
             [
              0.7777777777777778,
              "#fb9f3a"
             ],
             [
              0.8888888888888888,
              "#fdca26"
             ],
             [
              1,
              "#f0f921"
             ]
            ],
            "type": "histogram2d"
           }
          ],
          "histogram2dcontour": [
           {
            "colorbar": {
             "outlinewidth": 0,
             "ticks": ""
            },
            "colorscale": [
             [
              0,
              "#0d0887"
             ],
             [
              0.1111111111111111,
              "#46039f"
             ],
             [
              0.2222222222222222,
              "#7201a8"
             ],
             [
              0.3333333333333333,
              "#9c179e"
             ],
             [
              0.4444444444444444,
              "#bd3786"
             ],
             [
              0.5555555555555556,
              "#d8576b"
             ],
             [
              0.6666666666666666,
              "#ed7953"
             ],
             [
              0.7777777777777778,
              "#fb9f3a"
             ],
             [
              0.8888888888888888,
              "#fdca26"
             ],
             [
              1,
              "#f0f921"
             ]
            ],
            "type": "histogram2dcontour"
           }
          ],
          "mesh3d": [
           {
            "colorbar": {
             "outlinewidth": 0,
             "ticks": ""
            },
            "type": "mesh3d"
           }
          ],
          "parcoords": [
           {
            "line": {
             "colorbar": {
              "outlinewidth": 0,
              "ticks": ""
             }
            },
            "type": "parcoords"
           }
          ],
          "pie": [
           {
            "automargin": true,
            "type": "pie"
           }
          ],
          "scatter": [
           {
            "fillpattern": {
             "fillmode": "overlay",
             "size": 10,
             "solidity": 0.2
            },
            "type": "scatter"
           }
          ],
          "scatter3d": [
           {
            "line": {
             "colorbar": {
              "outlinewidth": 0,
              "ticks": ""
             }
            },
            "marker": {
             "colorbar": {
              "outlinewidth": 0,
              "ticks": ""
             }
            },
            "type": "scatter3d"
           }
          ],
          "scattercarpet": [
           {
            "marker": {
             "colorbar": {
              "outlinewidth": 0,
              "ticks": ""
             }
            },
            "type": "scattercarpet"
           }
          ],
          "scattergeo": [
           {
            "marker": {
             "colorbar": {
              "outlinewidth": 0,
              "ticks": ""
             }
            },
            "type": "scattergeo"
           }
          ],
          "scattergl": [
           {
            "marker": {
             "colorbar": {
              "outlinewidth": 0,
              "ticks": ""
             }
            },
            "type": "scattergl"
           }
          ],
          "scattermapbox": [
           {
            "marker": {
             "colorbar": {
              "outlinewidth": 0,
              "ticks": ""
             }
            },
            "type": "scattermapbox"
           }
          ],
          "scatterpolar": [
           {
            "marker": {
             "colorbar": {
              "outlinewidth": 0,
              "ticks": ""
             }
            },
            "type": "scatterpolar"
           }
          ],
          "scatterpolargl": [
           {
            "marker": {
             "colorbar": {
              "outlinewidth": 0,
              "ticks": ""
             }
            },
            "type": "scatterpolargl"
           }
          ],
          "scatterternary": [
           {
            "marker": {
             "colorbar": {
              "outlinewidth": 0,
              "ticks": ""
             }
            },
            "type": "scatterternary"
           }
          ],
          "surface": [
           {
            "colorbar": {
             "outlinewidth": 0,
             "ticks": ""
            },
            "colorscale": [
             [
              0,
              "#0d0887"
             ],
             [
              0.1111111111111111,
              "#46039f"
             ],
             [
              0.2222222222222222,
              "#7201a8"
             ],
             [
              0.3333333333333333,
              "#9c179e"
             ],
             [
              0.4444444444444444,
              "#bd3786"
             ],
             [
              0.5555555555555556,
              "#d8576b"
             ],
             [
              0.6666666666666666,
              "#ed7953"
             ],
             [
              0.7777777777777778,
              "#fb9f3a"
             ],
             [
              0.8888888888888888,
              "#fdca26"
             ],
             [
              1,
              "#f0f921"
             ]
            ],
            "type": "surface"
           }
          ],
          "table": [
           {
            "cells": {
             "fill": {
              "color": "#EBF0F8"
             },
             "line": {
              "color": "white"
             }
            },
            "header": {
             "fill": {
              "color": "#C8D4E3"
             },
             "line": {
              "color": "white"
             }
            },
            "type": "table"
           }
          ]
         },
         "layout": {
          "annotationdefaults": {
           "arrowcolor": "#2a3f5f",
           "arrowhead": 0,
           "arrowwidth": 1
          },
          "autotypenumbers": "strict",
          "coloraxis": {
           "colorbar": {
            "outlinewidth": 0,
            "ticks": ""
           }
          },
          "colorscale": {
           "diverging": [
            [
             0,
             "#8e0152"
            ],
            [
             0.1,
             "#c51b7d"
            ],
            [
             0.2,
             "#de77ae"
            ],
            [
             0.3,
             "#f1b6da"
            ],
            [
             0.4,
             "#fde0ef"
            ],
            [
             0.5,
             "#f7f7f7"
            ],
            [
             0.6,
             "#e6f5d0"
            ],
            [
             0.7,
             "#b8e186"
            ],
            [
             0.8,
             "#7fbc41"
            ],
            [
             0.9,
             "#4d9221"
            ],
            [
             1,
             "#276419"
            ]
           ],
           "sequential": [
            [
             0,
             "#0d0887"
            ],
            [
             0.1111111111111111,
             "#46039f"
            ],
            [
             0.2222222222222222,
             "#7201a8"
            ],
            [
             0.3333333333333333,
             "#9c179e"
            ],
            [
             0.4444444444444444,
             "#bd3786"
            ],
            [
             0.5555555555555556,
             "#d8576b"
            ],
            [
             0.6666666666666666,
             "#ed7953"
            ],
            [
             0.7777777777777778,
             "#fb9f3a"
            ],
            [
             0.8888888888888888,
             "#fdca26"
            ],
            [
             1,
             "#f0f921"
            ]
           ],
           "sequentialminus": [
            [
             0,
             "#0d0887"
            ],
            [
             0.1111111111111111,
             "#46039f"
            ],
            [
             0.2222222222222222,
             "#7201a8"
            ],
            [
             0.3333333333333333,
             "#9c179e"
            ],
            [
             0.4444444444444444,
             "#bd3786"
            ],
            [
             0.5555555555555556,
             "#d8576b"
            ],
            [
             0.6666666666666666,
             "#ed7953"
            ],
            [
             0.7777777777777778,
             "#fb9f3a"
            ],
            [
             0.8888888888888888,
             "#fdca26"
            ],
            [
             1,
             "#f0f921"
            ]
           ]
          },
          "colorway": [
           "#636efa",
           "#EF553B",
           "#00cc96",
           "#ab63fa",
           "#FFA15A",
           "#19d3f3",
           "#FF6692",
           "#B6E880",
           "#FF97FF",
           "#FECB52"
          ],
          "font": {
           "color": "#2a3f5f"
          },
          "geo": {
           "bgcolor": "white",
           "lakecolor": "white",
           "landcolor": "#E5ECF6",
           "showlakes": true,
           "showland": true,
           "subunitcolor": "white"
          },
          "hoverlabel": {
           "align": "left"
          },
          "hovermode": "closest",
          "mapbox": {
           "style": "light"
          },
          "paper_bgcolor": "white",
          "plot_bgcolor": "#E5ECF6",
          "polar": {
           "angularaxis": {
            "gridcolor": "white",
            "linecolor": "white",
            "ticks": ""
           },
           "bgcolor": "#E5ECF6",
           "radialaxis": {
            "gridcolor": "white",
            "linecolor": "white",
            "ticks": ""
           }
          },
          "scene": {
           "xaxis": {
            "backgroundcolor": "#E5ECF6",
            "gridcolor": "white",
            "gridwidth": 2,
            "linecolor": "white",
            "showbackground": true,
            "ticks": "",
            "zerolinecolor": "white"
           },
           "yaxis": {
            "backgroundcolor": "#E5ECF6",
            "gridcolor": "white",
            "gridwidth": 2,
            "linecolor": "white",
            "showbackground": true,
            "ticks": "",
            "zerolinecolor": "white"
           },
           "zaxis": {
            "backgroundcolor": "#E5ECF6",
            "gridcolor": "white",
            "gridwidth": 2,
            "linecolor": "white",
            "showbackground": true,
            "ticks": "",
            "zerolinecolor": "white"
           }
          },
          "shapedefaults": {
           "line": {
            "color": "#2a3f5f"
           }
          },
          "ternary": {
           "aaxis": {
            "gridcolor": "white",
            "linecolor": "white",
            "ticks": ""
           },
           "baxis": {
            "gridcolor": "white",
            "linecolor": "white",
            "ticks": ""
           },
           "bgcolor": "#E5ECF6",
           "caxis": {
            "gridcolor": "white",
            "linecolor": "white",
            "ticks": ""
           }
          },
          "title": {
           "x": 0.05
          },
          "xaxis": {
           "automargin": true,
           "gridcolor": "white",
           "linecolor": "white",
           "ticks": "",
           "title": {
            "standoff": 15
           },
           "zerolinecolor": "white",
           "zerolinewidth": 2
          },
          "yaxis": {
           "automargin": true,
           "gridcolor": "white",
           "linecolor": "white",
           "ticks": "",
           "title": {
            "standoff": 15
           },
           "zerolinecolor": "white",
           "zerolinewidth": 2
          }
         }
        },
        "xaxis": {
         "anchor": "y",
         "domain": [
          0,
          1
         ],
         "title": {
          "text": "time"
         }
        },
        "yaxis": {
         "anchor": "x",
         "domain": [
          0,
          1
         ],
         "title": {
          "text": "close"
         }
        }
       }
      }
     },
     "metadata": {},
     "output_type": "display_data"
    },
    {
     "data": {
      "text/html": [
       "<div>\n",
       "<style scoped>\n",
       "    .dataframe tbody tr th:only-of-type {\n",
       "        vertical-align: middle;\n",
       "    }\n",
       "\n",
       "    .dataframe tbody tr th {\n",
       "        vertical-align: top;\n",
       "    }\n",
       "\n",
       "    .dataframe thead th {\n",
       "        text-align: right;\n",
       "    }\n",
       "</style>\n",
       "<table border=\"1\" class=\"dataframe\">\n",
       "  <thead>\n",
       "    <tr style=\"text-align: right;\">\n",
       "      <th></th>\n",
       "      <th>time</th>\n",
       "      <th>open</th>\n",
       "      <th>high</th>\n",
       "      <th>low</th>\n",
       "      <th>close</th>\n",
       "      <th>tick_volume</th>\n",
       "      <th>spread</th>\n",
       "      <th>real_volume</th>\n",
       "    </tr>\n",
       "  </thead>\n",
       "  <tbody>\n",
       "    <tr>\n",
       "      <th>0</th>\n",
       "      <td>1726963200</td>\n",
       "      <td>1.33087</td>\n",
       "      <td>1.33230</td>\n",
       "      <td>1.33084</td>\n",
       "      <td>1.33124</td>\n",
       "      <td>2320</td>\n",
       "      <td>0</td>\n",
       "      <td>0</td>\n",
       "    </tr>\n",
       "    <tr>\n",
       "      <th>1</th>\n",
       "      <td>1727049600</td>\n",
       "      <td>1.33122</td>\n",
       "      <td>1.33595</td>\n",
       "      <td>1.32487</td>\n",
       "      <td>1.33487</td>\n",
       "      <td>58692</td>\n",
       "      <td>0</td>\n",
       "      <td>0</td>\n",
       "    </tr>\n",
       "    <tr>\n",
       "      <th>2</th>\n",
       "      <td>1727136000</td>\n",
       "      <td>1.33487</td>\n",
       "      <td>1.34281</td>\n",
       "      <td>1.33320</td>\n",
       "      <td>1.34271</td>\n",
       "      <td>60941</td>\n",
       "      <td>0</td>\n",
       "      <td>0</td>\n",
       "    </tr>\n",
       "    <tr>\n",
       "      <th>3</th>\n",
       "      <td>1727222400</td>\n",
       "      <td>1.34270</td>\n",
       "      <td>1.34301</td>\n",
       "      <td>1.33126</td>\n",
       "      <td>1.33139</td>\n",
       "      <td>66382</td>\n",
       "      <td>0</td>\n",
       "      <td>0</td>\n",
       "    </tr>\n",
       "    <tr>\n",
       "      <th>4</th>\n",
       "      <td>1727308800</td>\n",
       "      <td>1.33137</td>\n",
       "      <td>1.34346</td>\n",
       "      <td>1.33125</td>\n",
       "      <td>1.34109</td>\n",
       "      <td>70482</td>\n",
       "      <td>0</td>\n",
       "      <td>0</td>\n",
       "    </tr>\n",
       "    <tr>\n",
       "      <th>5</th>\n",
       "      <td>1727395200</td>\n",
       "      <td>1.34108</td>\n",
       "      <td>1.34276</td>\n",
       "      <td>1.33598</td>\n",
       "      <td>1.33726</td>\n",
       "      <td>68809</td>\n",
       "      <td>0</td>\n",
       "      <td>0</td>\n",
       "    </tr>\n",
       "    <tr>\n",
       "      <th>6</th>\n",
       "      <td>1727568000</td>\n",
       "      <td>1.33711</td>\n",
       "      <td>1.33841</td>\n",
       "      <td>1.33692</td>\n",
       "      <td>1.33826</td>\n",
       "      <td>2035</td>\n",
       "      <td>0</td>\n",
       "      <td>0</td>\n",
       "    </tr>\n",
       "    <tr>\n",
       "      <th>7</th>\n",
       "      <td>1727654400</td>\n",
       "      <td>1.33826</td>\n",
       "      <td>1.34230</td>\n",
       "      <td>1.33736</td>\n",
       "      <td>1.33904</td>\n",
       "      <td>35888</td>\n",
       "      <td>0</td>\n",
       "      <td>0</td>\n",
       "    </tr>\n",
       "  </tbody>\n",
       "</table>\n",
       "</div>"
      ],
      "text/plain": [
       "         time     open     high      low    close  tick_volume  spread  real_volume\n",
       "0  1726963200  1.33087  1.33230  1.33084  1.33124         2320       0            0\n",
       "1  1727049600  1.33122  1.33595  1.32487  1.33487        58692       0            0\n",
       "2  1727136000  1.33487  1.34281  1.33320  1.34271        60941       0            0\n",
       "3  1727222400  1.34270  1.34301  1.33126  1.33139        66382       0            0\n",
       "4  1727308800  1.33137  1.34346  1.33125  1.34109        70482       0            0\n",
       "5  1727395200  1.34108  1.34276  1.33598  1.33726        68809       0            0\n",
       "6  1727568000  1.33711  1.33841  1.33692  1.33826         2035       0            0\n",
       "7  1727654400  1.33826  1.34230  1.33736  1.33904        35888       0            0"
      ]
     },
     "execution_count": 24,
     "metadata": {},
     "output_type": "execute_result"
    }
   ],
   "source": [
    "## Visualize data with plotly library\n",
    "# ohlc_data\n",
    "ohlc_data = pd.DataFrame(mt5.copy_rates_range(\"GBPUSDz\", \n",
    "                                             mt5.TIMEFRAME_D1, \n",
    "                                             datetime(2024, 9, 21), \n",
    "                                             datetime.now()))\n",
    "\n",
    "fig = px.line(ohlc_data,x=ohlc_data['time'],y=ohlc_data['close'])\n",
    "fig.show()\n",
    "ohlc_data "
   ]
  },
  {
   "cell_type": "markdown",
   "metadata": {},
   "source": [
    "##### Get the number of orders currently"
   ]
  },
  {
   "cell_type": "code",
   "execution_count": 15,
   "metadata": {},
   "outputs": [
    {
     "data": {
      "text/plain": [
       "0"
      ]
     },
     "execution_count": 15,
     "metadata": {},
     "output_type": "execute_result"
    }
   ],
   "source": [
    "num_orders = mt5.orders_total()\n",
    "num_orders"
   ]
  },
  {
   "cell_type": "markdown",
   "metadata": {},
   "source": [
    "#### List of orders currently"
   ]
  },
  {
   "cell_type": "code",
   "execution_count": 16,
   "metadata": {},
   "outputs": [
    {
     "data": {
      "text/plain": [
       "()"
      ]
     },
     "execution_count": 16,
     "metadata": {},
     "output_type": "execute_result"
    }
   ],
   "source": [
    "orders = mt5.orders_get()\n",
    "orders"
   ]
  },
  {
   "cell_type": "markdown",
   "metadata": {},
   "source": [
    "##### Total number of Positions open"
   ]
  },
  {
   "cell_type": "code",
   "execution_count": 17,
   "metadata": {},
   "outputs": [
    {
     "data": {
      "text/plain": [
       "0"
      ]
     },
     "execution_count": 17,
     "metadata": {},
     "output_type": "execute_result"
    }
   ],
   "source": [
    "num_position = mt5.positions_total()\n",
    "num_position"
   ]
  },
  {
   "cell_type": "code",
   "execution_count": 18,
   "metadata": {},
   "outputs": [
    {
     "name": "stdout",
     "output_type": "stream",
     "text": [
      "[(1726704000, 1.32034, 1.33146, 1.31534, 1.32811, 76213, 0, 0)\n",
      " (1726790400, 1.32811, 1.33404, 1.32682, 1.33221, 62982, 0, 0)\n",
      " (1726963200, 1.33087, 1.3323 , 1.33084, 1.33124,  2320, 0, 0)\n",
      " (1727049600, 1.33122, 1.33595, 1.32487, 1.33487, 58692, 0, 0)\n",
      " (1727136000, 1.33487, 1.34281, 1.3332 , 1.34271, 60941, 0, 0)\n",
      " (1727222400, 1.3427 , 1.34301, 1.33126, 1.33139, 66382, 0, 0)\n",
      " (1727308800, 1.33137, 1.34346, 1.33125, 1.34109, 70482, 0, 0)\n",
      " (1727395200, 1.34108, 1.34276, 1.33598, 1.33726, 68809, 0, 0)\n",
      " (1727568000, 1.33711, 1.33841, 1.33692, 1.33826,  2035, 0, 0)\n",
      " (1727654400, 1.33826, 1.3423 , 1.33736, 1.33869, 33641, 0, 0)]\n"
     ]
    }
   ],
   "source": [
    " \n",
    "# import the 'pandas' module for displaying data obtained in the tabular form\n",
    "import pandas as pd\n",
    "pd.set_option('display.max_columns', 500) # number of columns to be displayed\n",
    "pd.set_option('display.width', 1500)      # max table width to display\n",
    " \n",
    "# establish connection to MetaTrader 5 terminal\n",
    "if not mt5.initialize():\n",
    "    print(\"initialize() failed, error code =\",mt5.last_error())\n",
    "    quit()\n",
    "# get 10 GBPUSD D1 bars from the current day\n",
    "rates = mt5.copy_rates_from_pos(\"GBPUSDz\", mt5.TIMEFRAME_D1, 0, 10)\n",
    "print(rates)"
   ]
  },
  {
   "cell_type": "code",
   "execution_count": 19,
   "metadata": {},
   "outputs": [
    {
     "data": {
      "text/plain": [
       "()"
      ]
     },
     "execution_count": 19,
     "metadata": {},
     "output_type": "execute_result"
    }
   ],
   "source": [
    "## list of positions\n",
    "positions = mt5.positions_get()\n",
    "positions"
   ]
  },
  {
   "cell_type": "code",
   "execution_count": 20,
   "metadata": {},
   "outputs": [
    {
     "data": {
      "text/plain": [
       "5"
      ]
     },
     "execution_count": 20,
     "metadata": {},
     "output_type": "execute_result"
    }
   ],
   "source": [
    "# number of history deals\n",
    "num_deal_history = mt5.history_deals_total(datetime(2024,9,20),datetime(2024,9,28))\n",
    "num_deal_history"
   ]
  },
  {
   "cell_type": "markdown",
   "metadata": {},
   "source": [
    "##### EXECUTING A BUY ORDER"
   ]
  },
  {
   "cell_type": "code",
   "execution_count": 34,
   "metadata": {},
   "outputs": [
    {
     "name": "stdout",
     "output_type": "stream",
     "text": [
      "OrderSendResult(retcode=10009, deal=94764289, order=126117144, volume=0.1, price=1.3393400000000002, bid=1.3393400000000002, ask=1.3393400000000002, comment='python script op', request_id=952356069, retcode_external=0, request=TradeRequest(action=1, magic=234000, order=0, symbol='GBPUSDz', volume=0.1, price=1.33934, stoplimit=0.0, sl=0.0, tp=0.0, deviation=20, type=0, type_filling=0, type_time=0, expiration=0, comment='python script open', position=0, position_by=0))\n"
     ]
    }
   ],
   "source": [
    "# establish connection to the MetaTrader 5 terminal\n",
    "if not mt5.initialize():\n",
    "    print(\"initialize() failed, error code =\",mt5.last_error())\n",
    "    quit()\n",
    "\n",
    "symbol = \"GBPUSDz\"\n",
    "lot = 0.1\n",
    "point = mt5.symbol_info(symbol).point\n",
    "price = mt5.symbol_info_tick(symbol).ask\n",
    "deviation = 20\n",
    "\n",
    "request = {\n",
    "    \"action\": mt5.TRADE_ACTION_DEAL,\n",
    "    \"symbol\": symbol,\n",
    "    \"volume\": lot,\n",
    "    \"type\": mt5.ORDER_TYPE_BUY,\n",
    "    \"price\": price,\n",
    "    \"deviation\": deviation,\n",
    "    \"magic\": 234000,\n",
    "    \"comment\": \"python script open\",\n",
    "    \"type_time\": mt5.ORDER_TIME_GTC,\n",
    "    \"type_filling\": mt5.ORDER_FILLING_FOK,\n",
    "}\n",
    "result = mt5.order_send(request)\n",
    "print(result)"
   ]
  },
  {
   "cell_type": "markdown",
   "metadata": {},
   "source": [
    "##### CLOSING THE BUY ORDER"
   ]
  },
  {
   "cell_type": "code",
   "execution_count": null,
   "metadata": {},
   "outputs": [],
   "source": [
    "#Create a Close request\n",
    "symbol = \"GBPUSDz\"\n",
    "lot = 0.1\n",
    "point = mt5.symbol_info(symbol).point\n",
    "price = mt5.symbol_info_tick(symbol).ask\n",
    "deviation=20\n",
    "\n",
    "position_id=result.order\n",
    "request={\n",
    "    \"action\": mt5.TRADE_ACTION_DEAL,\n",
    "    \"symbol\": symbol,\n",
    "    \"volume\": lot,\n",
    "    \"type\": mt5.ORDER_TYPE_SELL,\n",
    "    \"position\": position_id,\n",
    "    \"price\": price,\n",
    "    \"deviation\": deviation,\n",
    "    \"magic\": 234000,\n",
    "    \"comment\": \"python script close\",\n",
    "    \"type_time\": mt5.ORDER_TIME_GTC,\n",
    "    \"type_filling\": mt5.ORDER_FILLING_RETURN,\n",
    "}\n",
    "# send a trading request\n",
    "result=mt5.order_send(request)"
   ]
  },
  {
   "cell_type": "markdown",
   "metadata": {},
   "source": []
  }
 ],
 "metadata": {
  "kernelspec": {
   "display_name": "env",
   "language": "python",
   "name": "python3"
  },
  "language_info": {
   "codemirror_mode": {
    "name": "ipython",
    "version": 3
   },
   "file_extension": ".py",
   "mimetype": "text/x-python",
   "name": "python",
   "nbconvert_exporter": "python",
   "pygments_lexer": "ipython3",
   "version": "3.10.11"
  }
 },
 "nbformat": 4,
 "nbformat_minor": 2
}
