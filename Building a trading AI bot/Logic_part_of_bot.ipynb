{
 "cells": [
  {
   "cell_type": "markdown",
   "metadata": {},
   "source": [
    "# Trading Bot"
   ]
  },
  {
   "cell_type": "code",
   "execution_count": 2,
   "metadata": {},
   "outputs": [],
   "source": [
    "import MetaTrader5 as mt5\n",
    "import pandas\n",
    "import time"
   ]
  },
  {
   "cell_type": "markdown",
   "metadata": {},
   "source": [
    "login = 81283410\n",
    "password =\"Superman1999*\"\n",
    "server =\"ExnessKE-MT5Trial10\""
   ]
  },
  {
   "cell_type": "code",
   "execution_count": 3,
   "metadata": {},
   "outputs": [
    {
     "name": "stdout",
     "output_type": "stream",
     "text": [
      "MetaTrader5 package author:  MetaQuotes Ltd.\n",
      "MetaTrader5 package version:  5.0.4424\n"
     ]
    }
   ],
   "source": [
    "\n",
    "# display data on the MetaTrader 5 package\n",
    "print(\"MetaTrader5 package author: \",mt5.__author__)\n",
    "print(\"MetaTrader5 package version: \",mt5.__version__)\n",
    " \n",
    "# establish MetaTrader 5 connection to a specified trading account\n",
    "if not mt5.initialize(path=\"C:/Program Files/MetaTrader 5/terminal64.exe\",login=81283410, server=\"ExnessKE-MT5Trial10\",password=\"Superman1999*\"):\n",
    "    print(\"initialize() failed, error code =\",mt5.last_error())\n",
    "    quit()"
   ]
  },
  {
   "cell_type": "code",
   "execution_count": 5,
   "metadata": {},
   "outputs": [
    {
     "name": "stdout",
     "output_type": "stream",
     "text": [
      "OrderSendResult(retcode=10009, deal=97893341, order=129727789, volume=0.1, price=148.681, bid=148.681, ask=148.681, comment='python script op', request_id=3444957629, retcode_external=0, request=TradeRequest(action=1, magic=234000, order=0, symbol='USDJPYz', volume=0.1, price=148.681, stoplimit=0.0, sl=148.58100000000002, tp=148.781, deviation=20, type=0, type_filling=1, type_time=0, expiration=0, comment='python script open', position=0, position_by=0))\n"
     ]
    }
   ],
   "source": [
    "symbol='USDJPYz'\n",
    "lot = 0.1\n",
    "point = mt5.symbol_info(symbol).point\n",
    "price = mt5.symbol_info_tick(symbol).ask\n",
    "deviation = 20\n",
    "request = {\n",
    "    \"action\": mt5.TRADE_ACTION_DEAL,\n",
    "    \"symbol\": symbol,\n",
    "    \"volume\": lot,\n",
    "    \"type\": mt5.ORDER_TYPE_BUY,\n",
    "    \"price\": price,\n",
    "    \"sl\": price - 100 * point,\n",
    "    \"tp\": price + 100 * point,\n",
    "    \"deviation\": deviation,\n",
    "    \"magic\": 234000,\n",
    "    \"comment\": \"python script open\",\n",
    "    \"type_time\": mt5.ORDER_TIME_GTC,\n",
    "    \"type_filling\": mt5.ORDER_FILLING_IOC,\n",
    "}\n",
    " \n",
    "# send a trading request\n",
    "result = mt5.order_send(request)\n",
    "print(result)\n",
    "\n"
   ]
  },
  {
   "cell_type": "markdown",
   "metadata": {},
   "source": [
    "### Create a Function for a Buy order"
   ]
  },
  {
   "cell_type": "code",
   "execution_count": 6,
   "metadata": {},
   "outputs": [],
   "source": [
    "#Buy Function\n",
    "def place_buy(symbol, lot, sl=200, tp=400):\n",
    "    symbol_info = mt5.symbol_info(symbol)\n",
    "    if symbol_info is None:\n",
    "        print(symbol, \"not found, can not call order_check()\")\n",
    "        return None\n",
    "    \n",
    "    lot = lot\n",
    "    point = mt5.symbol_info(symbol).point\n",
    "    price = mt5.symbol_info_tick(symbol).ask\n",
    "    deviation = 20\n",
    "    request = {\n",
    "        \"action\": mt5.TRADE_ACTION_DEAL,\n",
    "        \"symbol\": symbol,\n",
    "        \"volume\": lot,\n",
    "        \"type\": mt5.ORDER_TYPE_BUY,\n",
    "        \"price\": price,\n",
    "        \"sl\": price - sl * point,\n",
    "        \"tp\": price + tp * point,\n",
    "        \"deviation\": deviation,\n",
    "        \"magic\": 234000,\n",
    "        \"comment\": \"python script open\",\n",
    "        \"type_time\": mt5.ORDER_TIME_GTC,\n",
    "        \"type_filling\": mt5.ORDER_FILLING_IOC,\n",
    "    }\n",
    "    \n",
    "    # send a trading request\n",
    "    result = mt5.order_send(request)\n",
    "    if result.retcode != mt5.TRADE_RETCODE_DONE:\n",
    "        print(f\"The order failed with {result.retcode}\")\n",
    "        return None\n",
    "    \n",
    "    return result.order\n",
    "\n"
   ]
  },
  {
   "cell_type": "markdown",
   "metadata": {},
   "source": [
    "### Create a Sell order "
   ]
  },
  {
   "cell_type": "code",
   "execution_count": 11,
   "metadata": {},
   "outputs": [],
   "source": [
    "# Sell Function\n",
    "\n",
    "def place_sell(symbol, lot, sl=200, tp=400):\n",
    "    symbol_info = mt5.symbol_info(symbol)\n",
    "    if symbol_info is None:\n",
    "        print(symbol, \"not found, can not call order_check()\")\n",
    "        return None\n",
    "    \n",
    "    lot = lot\n",
    "    point = mt5.symbol_info(symbol).point\n",
    "    price = mt5.symbol_info_tick(symbol).ask\n",
    "    deviation = 20\n",
    "    request = {\n",
    "        \"action\": mt5.TRADE_ACTION_DEAL,\n",
    "        \"symbol\": symbol,\n",
    "        \"volume\": lot,\n",
    "        \"type\": mt5.ORDER_TYPE_SELL,\n",
    "        \"price\": price,\n",
    "        \"sl\": price + sl * point,\n",
    "        \"tp\": price - tp * point,\n",
    "        \"deviation\": deviation,\n",
    "        \"magic\": 234000,\n",
    "        \"comment\": \"python script open\",\n",
    "        \"type_time\": mt5.ORDER_TIME_GTC,\n",
    "        \"type_filling\": mt5.ORDER_FILLING_IOC,\n",
    "    }\n",
    "     # send a trading request\n",
    "    result = mt5.order_send(request)\n",
    "    if result.retcode != mt5.TRADE_RETCODE_DONE:\n",
    "        print(f\"The order failed with {result.retcode}\")\n",
    "        return None\n",
    "    \n",
    "    return result.order"
   ]
  },
  {
   "cell_type": "code",
   "execution_count": 8,
   "metadata": {},
   "outputs": [
    {
     "data": {
      "text/plain": [
       "129727841"
      ]
     },
     "execution_count": 8,
     "metadata": {},
     "output_type": "execute_result"
    }
   ],
   "source": [
    "place_buy(lot=0.01, symbol= 'USDJPYz', sl= 200)"
   ]
  },
  {
   "cell_type": "markdown",
   "metadata": {},
   "source": [
    "### Check the Current price"
   ]
  },
  {
   "cell_type": "code",
   "execution_count": null,
   "metadata": {},
   "outputs": [],
   "source": [
    "\n",
    "\n",
    "current_price = mt5.symbol_info_tick(symbol).ask\n",
    "print(current_price)\n",
    "\n"
   ]
  },
  {
   "cell_type": "markdown",
   "metadata": {},
   "source": [
    "### Create a while loop that check the current price.If it is above 10 pips execute a buy order if it is below 10 pips it executes a sell order"
   ]
  },
  {
   "cell_type": "code",
   "execution_count": 41,
   "metadata": {},
   "outputs": [
    {
     "name": "stdout",
     "output_type": "stream",
     "text": [
      "0 148.969 148.969\n",
      "1 148.969 148.977\n",
      "2 148.969 148.973\n",
      "3 148.969 148.97\n",
      "4 148.969 148.97\n",
      "5 148.969 148.969\n",
      "6 148.969 148.97\n",
      "7 148.969 148.968\n",
      "8 148.969 148.97\n",
      "9 148.969 148.972\n",
      "10 148.969 148.972\n"
     ]
    }
   ],
   "source": [
    "i =0\n",
    "start_price=  mt5.symbol_info_tick(symbol).ask\n",
    "while i <= 10 :\n",
    "   current_price = mt5.symbol_info_tick(symbol).ask \n",
    "   time.sleep(3)\n",
    "   if (current_price-start_price)/start_price >= 0.1:\n",
    "      order_ticket= place_buy(symbol=symbol, lot=0.01)\n",
    "      \n",
    "   print(i, start_price, current_price)\n",
    "   i= i+1\n",
    "\n",
    "   "
   ]
  },
  {
   "cell_type": "markdown",
   "metadata": {},
   "source": [
    "### Create a while loop that checks the number of positions open is it is > 0 it will not place a buy order/sell order"
   ]
  },
  {
   "cell_type": "code",
   "execution_count": null,
   "metadata": {},
   "outputs": [],
   "source": [
    "\n",
    "\n",
    "## If it has a position open bot cannot run because you have  a position open\n",
    "## else run>>>\n",
    "# last digit is 27\n",
    "\n",
    "i =0\n",
    "start_price=  mt5.symbol_info_tick(symbol).ask\n",
    "while i <= 10 :\n",
    "   current_price = mt5.symbol_info_tick(symbol).ask \n",
    "   time.sleep(3)\n",
    "   \n",
    "   #Check the number of positions\n",
    "   channel_position = mt5.positions_total()\n",
    "   if channel_position>0:\n",
    "      print(\"has a position open thus bot cannot run because you have  a position open\")\n",
    "   else:\n",
    "      if (current_price-start_price)/start_price >= 0.1:\n",
    "         order_ticket= place_buy(symbol=symbol, lot=0.01)\n",
    "      elif(current_price +start_price)/start_price >=0.1:\n",
    "         order_ticket = place_sell(symbol=symbol,lot=lot)\n",
    "   i = i+1\n",
    "   print(current_price,start_price)"
   ]
  }
 ],
 "metadata": {
  "kernelspec": {
   "display_name": "env",
   "language": "python",
   "name": "python3"
  },
  "language_info": {
   "codemirror_mode": {
    "name": "ipython",
    "version": 3
   },
   "file_extension": ".py",
   "mimetype": "text/x-python",
   "name": "python",
   "nbconvert_exporter": "python",
   "pygments_lexer": "ipython3",
   "version": "3.10.11"
  }
 },
 "nbformat": 4,
 "nbformat_minor": 2
}
